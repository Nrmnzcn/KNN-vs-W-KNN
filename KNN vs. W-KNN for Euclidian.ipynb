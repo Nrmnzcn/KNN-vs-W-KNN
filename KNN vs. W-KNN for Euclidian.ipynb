{
 "cells": [
  {
   "cell_type": "code",
   "execution_count": 1,
   "metadata": {},
   "outputs": [],
   "source": [
    "# FOR KNN"
   ]
  },
  {
   "cell_type": "code",
   "execution_count": 2,
   "metadata": {},
   "outputs": [],
   "source": [
    "import numpy as np\n",
    "import pandas as pd\n",
    "from collections import defaultdict\n",
    "from sklearn.model_selection import train_test_split\n",
    "\n",
    "class KNN(object):\n",
    "    def __init__(self, n_neighbors=5):\n",
    "        self.n_neighbors = n_neighbors\n",
    "\n",
    "    def fit(self, X, y):\n",
    "        self.X = X\n",
    "        self.y = y\n",
    "        return self\n",
    "\n",
    "    def _distance(self, data1, data2):\n",
    "        return np.sqrt(sum((data1 - data2)**2))\n",
    "\n",
    "    def _compute_weights(self, distances):\n",
    "        return [(1, y) for d, y in distances]\n",
    "\n",
    "    def _predict_one(self, test):\n",
    "        distances = sorted((self._distance(x, test), y) for x, y in zip(self.X, self.y))\n",
    "        weights = self._compute_weights(distances[:self.n_neighbors])\n",
    "        weights_by_class = defaultdict(list)\n",
    "        for d, c in weights:\n",
    "            weights_by_class[c].append(d)\n",
    "        return max((sum(val), key) for key, val in weights_by_class.items())[1]\n",
    "\n",
    "    def predict(self, X):\n",
    "        return [self._predict_one(i) for i in X]\n",
    "    \n",
    "    def score(self, X, y):\n",
    "        return sum(1 for p, t in zip(self.predict(X), y) if p == t) / len(y)"
   ]
  },
  {
   "cell_type": "code",
   "execution_count": 3,
   "metadata": {},
   "outputs": [],
   "source": [
    "dataset = np.loadtxt(\"paf.csv\", delimiter=\",\")\n",
    "        \n",
    "datadataset = np.loadtxt(\"paf.csv\", delimiter=\",\")\n",
    "train, test = train_test_split(dataset, test_size=0.3)\n",
    "        \n",
    "X_train = train[:,0:33]\n",
    "y_train = train[:,33]\n",
    "        \n",
    "X_test = test[:,0:33]\n",
    "y_test = test[:,33]\n",
    "\n",
    "\n",
    "# print(neighbor.score(X_train, y_train))\n",
    "# print(neighbor.score(X_test, y_test))"
   ]
  },
  {
   "cell_type": "code",
   "execution_count": 4,
   "metadata": {},
   "outputs": [
    {
     "name": "stdout",
     "output_type": "stream",
     "text": [
      "Neighbors: 1, Train Accuracy: 1.000000\n",
      "Neighbors: 3, Train Accuracy: 0.931900\n",
      "Neighbors: 5, Train Accuracy: 0.917563\n",
      "Neighbors: 7, Train Accuracy: 0.897849\n",
      "Neighbors: 9, Train Accuracy: 0.881720\n",
      "Neighbors: 11, Train Accuracy: 0.865591\n",
      "Neighbors: 13, Train Accuracy: 0.865591\n",
      "Neighbors: 15, Train Accuracy: 0.862007\n",
      "Neighbors: 17, Train Accuracy: 0.849462\n",
      "Neighbors: 19, Train Accuracy: 0.860215\n"
     ]
    }
   ],
   "source": [
    "# FOR TRAİN DATASET\n",
    "results = []\n",
    "for n in range(1, 20, 2):\n",
    "    \n",
    "    neighbor = KNN(n_neighbors=n).fit(X_train, y_train)\n",
    "    TrainAcc = neighbor.score(X_train, y_train)\n",
    "    print (\"Neighbors: %d, Train Accuracy: %3f\" % (n, TrainAcc))\n",
    "    results.append([n, TrainAcc])"
   ]
  },
  {
   "cell_type": "code",
   "execution_count": 5,
   "metadata": {},
   "outputs": [
    {
     "name": "stdout",
     "output_type": "stream",
     "text": [
      "Neighbors: 1, Train Accuracy: 0.870833\n",
      "Neighbors: 3, Train Accuracy: 0.858333\n",
      "Neighbors: 5, Train Accuracy: 0.870833\n",
      "Neighbors: 7, Train Accuracy: 0.841667\n",
      "Neighbors: 9, Train Accuracy: 0.841667\n",
      "Neighbors: 11, Train Accuracy: 0.837500\n",
      "Neighbors: 13, Train Accuracy: 0.841667\n",
      "Neighbors: 15, Train Accuracy: 0.829167\n",
      "Neighbors: 17, Train Accuracy: 0.829167\n",
      "Neighbors: 19, Train Accuracy: 0.837500\n"
     ]
    }
   ],
   "source": [
    "# FOR TEST DATASET\n",
    "for n in range(1, 20, 2):\n",
    "    \n",
    "    neighbor = KNN(n_neighbors=n).fit(X_train, y_train)\n",
    "    TestAcc = neighbor.score(X_test, y_test)\n",
    "    print (\"Neighbors: %d, Train Accuracy: %3f\" % (n, TestAcc))"
   ]
  },
  {
   "cell_type": "code",
   "execution_count": 6,
   "metadata": {},
   "outputs": [],
   "source": [
    "# FOR WEİGHTED KNN"
   ]
  },
  {
   "cell_type": "code",
   "execution_count": 9,
   "metadata": {},
   "outputs": [],
   "source": [
    "import numpy as np\n",
    "from collections import defaultdict\n",
    "\n",
    "class WKNN(object):\n",
    "    def __init__(self, n_neighbors=5, weights='distance', p=2):\n",
    "        self.n_neighbors = n_neighbors\n",
    "        self.weights = weights\n",
    "        self.p = p\n",
    "\n",
    "    def fit(self, X, y):\n",
    "        self.X = X\n",
    "        self.y = y\n",
    "        return self\n",
    "\n",
    "    def _distance(self, data1, data2):\n",
    "        \"\"\"1: Manhattan, 2: Euclidean\"\"\"\n",
    "        if self.p == 1:\n",
    "            return sum(abs(data1 - data2))          \n",
    "        elif self.p == 2:\n",
    "            return np.sqrt(sum((data1 - data2)**2))\n",
    "        raise ValueError(\"p not recognized: should be 1 or 2\")\n",
    "\n",
    "    def _compute_weights(self, distances):\n",
    "        if self.weights == 'uniform':\n",
    "            return [(1, y) for d, y in distances]\n",
    "        elif self.weights == 'distance':\n",
    "            matches = [(1, y) for d, y in distances if d == 0]\n",
    "            return matches if matches else [(1/d, y) for d, y in distances]\n",
    "        raise ValueError(\"weights not recognized: should be 'uniform' or 'distance'\")\n",
    "\n",
    "    def _predict_one(self, test):\n",
    "        distances = sorted((self._distance(x, test), y) for x, y in zip(self.X, self.y))\n",
    "        weights = self._compute_weights(distances[:self.n_neighbors])\n",
    "        weights_by_class = defaultdict(list)\n",
    "        for d, c in weights:\n",
    "            weights_by_class[c].append(d)\n",
    "        return max((sum(val), key) for key, val in weights_by_class.items())[1]\n",
    "\n",
    "    def predict(self, X):\n",
    "        return [self._predict_one(x) for x in X]\n",
    "\n",
    "    def score(self, X, y):\n",
    "        return sum(1 for p, t in zip(self.predict(X), y) if p == t) / len(y)"
   ]
  },
  {
   "cell_type": "code",
   "execution_count": 10,
   "metadata": {},
   "outputs": [
    {
     "name": "stdout",
     "output_type": "stream",
     "text": [
      "Neighbors: 1, Train Accuracy: 1.000000\n",
      "Neighbors: 3, Train Accuracy: 1.000000\n",
      "Neighbors: 5, Train Accuracy: 1.000000\n",
      "Neighbors: 7, Train Accuracy: 1.000000\n",
      "Neighbors: 9, Train Accuracy: 1.000000\n",
      "Neighbors: 11, Train Accuracy: 1.000000\n",
      "Neighbors: 13, Train Accuracy: 1.000000\n",
      "Neighbors: 15, Train Accuracy: 1.000000\n",
      "Neighbors: 17, Train Accuracy: 1.000000\n",
      "Neighbors: 19, Train Accuracy: 1.000000\n"
     ]
    }
   ],
   "source": [
    "# FOR TRAİN DATASET\n",
    "results = []\n",
    "for n in range(1, 20, 2):\n",
    "    \n",
    "    neighbor = WKNN(n_neighbors=n).fit(X_train, y_train)\n",
    "    TrainAcc = neighbor.score(X_train, y_train)\n",
    "    print (\"Neighbors: %d, Train Accuracy: %3f\" % (n, TrainAcc))\n",
    "    results.append([n, TrainAcc])"
   ]
  },
  {
   "cell_type": "code",
   "execution_count": 11,
   "metadata": {},
   "outputs": [
    {
     "name": "stdout",
     "output_type": "stream",
     "text": [
      "Neighbors: 1, Train Accuracy: 0.870833\n",
      "Neighbors: 3, Train Accuracy: 0.862500\n",
      "Neighbors: 5, Train Accuracy: 0.883333\n",
      "Neighbors: 7, Train Accuracy: 0.850000\n",
      "Neighbors: 9, Train Accuracy: 0.850000\n",
      "Neighbors: 11, Train Accuracy: 0.850000\n",
      "Neighbors: 13, Train Accuracy: 0.858333\n",
      "Neighbors: 15, Train Accuracy: 0.837500\n",
      "Neighbors: 17, Train Accuracy: 0.845833\n",
      "Neighbors: 19, Train Accuracy: 0.845833\n"
     ]
    }
   ],
   "source": [
    "# FOR TEST DATASET\n",
    "for n in range(1, 20, 2):\n",
    "    \n",
    "    neighbor = WKNN(n_neighbors=n).fit(X_train, y_train)\n",
    "    TestAcc = neighbor.score(X_test, y_test)\n",
    "    print (\"Neighbors: %d, Train Accuracy: %3f\" % (n, TestAcc))"
   ]
  },
  {
   "cell_type": "code",
   "execution_count": null,
   "metadata": {},
   "outputs": [],
   "source": []
  }
 ],
 "metadata": {
  "kernelspec": {
   "display_name": "Python 3",
   "language": "python",
   "name": "python3"
  },
  "language_info": {
   "codemirror_mode": {
    "name": "ipython",
    "version": 3
   },
   "file_extension": ".py",
   "mimetype": "text/x-python",
   "name": "python",
   "nbconvert_exporter": "python",
   "pygments_lexer": "ipython3",
   "version": "3.5.4"
  }
 },
 "nbformat": 4,
 "nbformat_minor": 2
}
